{
 "cells": [
  {
   "cell_type": "markdown",
   "id": "9640a530",
   "metadata": {},
   "source": [
    "# Houses for Zack:\n",
    "###  1st EDA Project - Week 3 of Data Science Bootcamp @ neuefische GmbH"
   ]
  },
  {
   "cell_type": "markdown",
   "id": "e773e848",
   "metadata": {},
   "source": [
    "#### The dataset: \n",
    "\"King County House prices\" - Information about ~22k houses sold in Seattle in the years 2014/2015\n",
    "\n",
    "#### The stakeholder: \n",
    "Zachary Brooks - Invests in historical houses, best neighborhoods, high profits, best timing within a year, should renovate?"
   ]
  },
  {
   "cell_type": "markdown",
   "id": "46fa85fb",
   "metadata": {},
   "source": [
    "|Questions   |  Hypothesis |  Indicators |\n",
    "|---|---|---|\n",
    "| Where are most historical houses?     | 1. Predominantly near the water                                           |  Build date, geolocation | \n",
    "| How does age affect the house price?  |  2. Positive, if well maintained                                   | Renovation date  | \n",
    "|                                       |  3. Negative, if too small                                         | Squarefootage | \n",
    "|  When is the best time to sell?       |  4. Probably summer, because houses look more appealing to buyers. | Selling date, price difference to similar houses in neighborhood  |\n",
    "|  How important is renovating?     |  5. Renovating increases resale value                                     | Renovation date, relative price  |\n",
    "|                                       |  6. Renovation is more important in old houses "
   ]
  },
  {
   "cell_type": "code",
   "execution_count": 1,
   "id": "32de4015-1848-4ed0-a7ea-ff1a35e6c786",
   "metadata": {},
   "outputs": [],
   "source": [
    "import warnings\n",
    "warnings.filterwarnings(\"ignore\")\n",
    "import pandas as pd\n",
    "import numpy as np\n",
    "import matplotlib.pyplot as plt\n",
    "import seaborn as sns\n",
    "sns.set(rc = {'figure.figsize':(12,8),\"axes.facecolor\" : \"white\", \"axes.edgecolor\":  \"black\"})\n",
    "plt.rcParams[\"figure.facecolor\"]= \"w\"\n",
    "pd.plotting.register_matplotlib_converters()\n",
    "pd.set_option('display.float_format', lambda x: '%.3f' % x)\n",
    "from matplotlib.ticker import PercentFormatter\n",
    "import plotly.express as px\n",
    "from datetime import datetime, date, time, timedelta\n",
    "from scipy.stats.mstats import winsorize"
   ]
  },
  {
   "cell_type": "markdown",
   "id": "bedcf1b5",
   "metadata": {},
   "source": [
    "##### Defining some functions for easy filtering and binning of the dataset down the line"
   ]
  },
  {
   "cell_type": "code",
   "execution_count": 49,
   "id": "6f37254f-2a0c-4a35-9070-6cf03b21745b",
   "metadata": {},
   "outputs": [],
   "source": [
    "def renovated(dataframe):\n",
    "    return dataframe[dataframe[\"yr_renovated\"] > 0]\n",
    "\n",
    "def not_renovated(dataframe):\n",
    "    return dataframe[dataframe[\"yr_renovated\"] == 0]\n",
    "\n",
    "def old(dataframe, yr= 1945):\n",
    "    return dataframe[dataframe[\"yr_built\"] < yr]\n",
    "\n",
    "def new(dataframe, yr=1945):\n",
    "    return dataframe[dataframe[\"yr_built\"] >= yr]\n",
    "\n",
    "def water(dataframe):\n",
    "    return dataframe[dataframe[\"waterfront\"] == 1]\n",
    "\n",
    "def binby(dataframe, column, bins=5, lab = True):\n",
    "    nbins = bins\n",
    "    bin_borders = np.arange(dataframe[column].min(), dataframe[column].max()+(dataframe[column].max()*0.01), ((dataframe[column].max()+(dataframe[column].max()*0.01))-dataframe[column].min())/nbins)\n",
    "    if lab == False:\n",
    "        binned_column = pd.cut(dataframe[column], bins= bin_borders, labels = lab, include_lowest= True)\n",
    "    else:\n",
    "        binned_column = pd.cut(dataframe[column], bins= bin_borders, labels = bin_borders[:-1], include_lowest= True)\n",
    "    binned_column.name = column+\"_bin\"\n",
    "    return pd.concat([dataframe, binned_column], axis=1)"
   ]
  },
  {
   "cell_type": "markdown",
   "id": "dddb0928-1e6c-476c-a692-e433f3ab63db",
   "metadata": {},
   "source": [
    "##### Load Data"
   ]
  },
  {
   "cell_type": "code",
   "execution_count": 36,
   "id": "77b624e2-047a-4c2f-aa69-ec1f0415b5e1",
   "metadata": {},
   "outputs": [
    {
     "data": {
      "text/html": [
       "<div>\n",
       "<style scoped>\n",
       "    .dataframe tbody tr th:only-of-type {\n",
       "        vertical-align: middle;\n",
       "    }\n",
       "\n",
       "    .dataframe tbody tr th {\n",
       "        vertical-align: top;\n",
       "    }\n",
       "\n",
       "    .dataframe thead th {\n",
       "        text-align: right;\n",
       "    }\n",
       "</style>\n",
       "<table border=\"1\" class=\"dataframe\">\n",
       "  <thead>\n",
       "    <tr style=\"text-align: right;\">\n",
       "      <th></th>\n",
       "      <th>id</th>\n",
       "      <th>date</th>\n",
       "      <th>price</th>\n",
       "      <th>bedrooms</th>\n",
       "      <th>bathrooms</th>\n",
       "      <th>sqft_living</th>\n",
       "      <th>sqft_lot</th>\n",
       "      <th>floors</th>\n",
       "      <th>waterfront</th>\n",
       "      <th>view</th>\n",
       "      <th>...</th>\n",
       "      <th>grade</th>\n",
       "      <th>sqft_above</th>\n",
       "      <th>sqft_basement</th>\n",
       "      <th>yr_built</th>\n",
       "      <th>yr_renovated</th>\n",
       "      <th>zipcode</th>\n",
       "      <th>lat</th>\n",
       "      <th>long</th>\n",
       "      <th>sqft_living15</th>\n",
       "      <th>sqft_lot15</th>\n",
       "    </tr>\n",
       "  </thead>\n",
       "  <tbody>\n",
       "    <tr>\n",
       "      <th>0</th>\n",
       "      <td>7129300520</td>\n",
       "      <td>10/13/2014</td>\n",
       "      <td>221900.000</td>\n",
       "      <td>3</td>\n",
       "      <td>1.000</td>\n",
       "      <td>1180</td>\n",
       "      <td>5650</td>\n",
       "      <td>1.000</td>\n",
       "      <td>NaN</td>\n",
       "      <td>0.000</td>\n",
       "      <td>...</td>\n",
       "      <td>7</td>\n",
       "      <td>1180</td>\n",
       "      <td>0.0</td>\n",
       "      <td>1955</td>\n",
       "      <td>0.000</td>\n",
       "      <td>98178</td>\n",
       "      <td>47.511</td>\n",
       "      <td>-122.257</td>\n",
       "      <td>1340</td>\n",
       "      <td>5650</td>\n",
       "    </tr>\n",
       "    <tr>\n",
       "      <th>1</th>\n",
       "      <td>6414100192</td>\n",
       "      <td>12/9/2014</td>\n",
       "      <td>538000.000</td>\n",
       "      <td>3</td>\n",
       "      <td>2.250</td>\n",
       "      <td>2570</td>\n",
       "      <td>7242</td>\n",
       "      <td>2.000</td>\n",
       "      <td>0.000</td>\n",
       "      <td>0.000</td>\n",
       "      <td>...</td>\n",
       "      <td>7</td>\n",
       "      <td>2170</td>\n",
       "      <td>400.0</td>\n",
       "      <td>1951</td>\n",
       "      <td>1991.000</td>\n",
       "      <td>98125</td>\n",
       "      <td>47.721</td>\n",
       "      <td>-122.319</td>\n",
       "      <td>1690</td>\n",
       "      <td>7639</td>\n",
       "    </tr>\n",
       "    <tr>\n",
       "      <th>2</th>\n",
       "      <td>5631500400</td>\n",
       "      <td>2/25/2015</td>\n",
       "      <td>180000.000</td>\n",
       "      <td>2</td>\n",
       "      <td>1.000</td>\n",
       "      <td>770</td>\n",
       "      <td>10000</td>\n",
       "      <td>1.000</td>\n",
       "      <td>0.000</td>\n",
       "      <td>0.000</td>\n",
       "      <td>...</td>\n",
       "      <td>6</td>\n",
       "      <td>770</td>\n",
       "      <td>0.0</td>\n",
       "      <td>1933</td>\n",
       "      <td>NaN</td>\n",
       "      <td>98028</td>\n",
       "      <td>47.738</td>\n",
       "      <td>-122.233</td>\n",
       "      <td>2720</td>\n",
       "      <td>8062</td>\n",
       "    </tr>\n",
       "    <tr>\n",
       "      <th>3</th>\n",
       "      <td>2487200875</td>\n",
       "      <td>12/9/2014</td>\n",
       "      <td>604000.000</td>\n",
       "      <td>4</td>\n",
       "      <td>3.000</td>\n",
       "      <td>1960</td>\n",
       "      <td>5000</td>\n",
       "      <td>1.000</td>\n",
       "      <td>0.000</td>\n",
       "      <td>0.000</td>\n",
       "      <td>...</td>\n",
       "      <td>7</td>\n",
       "      <td>1050</td>\n",
       "      <td>910.0</td>\n",
       "      <td>1965</td>\n",
       "      <td>0.000</td>\n",
       "      <td>98136</td>\n",
       "      <td>47.521</td>\n",
       "      <td>-122.393</td>\n",
       "      <td>1360</td>\n",
       "      <td>5000</td>\n",
       "    </tr>\n",
       "    <tr>\n",
       "      <th>4</th>\n",
       "      <td>1954400510</td>\n",
       "      <td>2/18/2015</td>\n",
       "      <td>510000.000</td>\n",
       "      <td>3</td>\n",
       "      <td>2.000</td>\n",
       "      <td>1680</td>\n",
       "      <td>8080</td>\n",
       "      <td>1.000</td>\n",
       "      <td>0.000</td>\n",
       "      <td>0.000</td>\n",
       "      <td>...</td>\n",
       "      <td>8</td>\n",
       "      <td>1680</td>\n",
       "      <td>0.0</td>\n",
       "      <td>1987</td>\n",
       "      <td>0.000</td>\n",
       "      <td>98074</td>\n",
       "      <td>47.617</td>\n",
       "      <td>-122.045</td>\n",
       "      <td>1800</td>\n",
       "      <td>7503</td>\n",
       "    </tr>\n",
       "  </tbody>\n",
       "</table>\n",
       "<p>5 rows × 21 columns</p>\n",
       "</div>"
      ],
      "text/plain": [
       "           id        date      price  bedrooms  bathrooms  sqft_living  \\\n",
       "0  7129300520  10/13/2014 221900.000         3      1.000         1180   \n",
       "1  6414100192   12/9/2014 538000.000         3      2.250         2570   \n",
       "2  5631500400   2/25/2015 180000.000         2      1.000          770   \n",
       "3  2487200875   12/9/2014 604000.000         4      3.000         1960   \n",
       "4  1954400510   2/18/2015 510000.000         3      2.000         1680   \n",
       "\n",
       "   sqft_lot  floors  waterfront  view  ...  grade  sqft_above  sqft_basement  \\\n",
       "0      5650   1.000         NaN 0.000  ...      7        1180            0.0   \n",
       "1      7242   2.000       0.000 0.000  ...      7        2170          400.0   \n",
       "2     10000   1.000       0.000 0.000  ...      6         770            0.0   \n",
       "3      5000   1.000       0.000 0.000  ...      7        1050          910.0   \n",
       "4      8080   1.000       0.000 0.000  ...      8        1680            0.0   \n",
       "\n",
       "  yr_built  yr_renovated  zipcode    lat     long  sqft_living15  sqft_lot15  \n",
       "0     1955         0.000    98178 47.511 -122.257           1340        5650  \n",
       "1     1951      1991.000    98125 47.721 -122.319           1690        7639  \n",
       "2     1933           NaN    98028 47.738 -122.233           2720        8062  \n",
       "3     1965         0.000    98136 47.521 -122.393           1360        5000  \n",
       "4     1987         0.000    98074 47.617 -122.045           1800        7503  \n",
       "\n",
       "[5 rows x 21 columns]"
      ]
     },
     "execution_count": 36,
     "metadata": {},
     "output_type": "execute_result"
    }
   ],
   "source": [
    "df= pd.read_csv(\"data/King_County_House_prices_dataset.csv\")\n",
    "df.head()"
   ]
  },
  {
   "cell_type": "markdown",
   "id": "f6ffeab2",
   "metadata": {},
   "source": [
    "##### Transformation of the dataframe:\n",
    "Convert date to datetime and extract month to test hypothesis Nr. 4"
   ]
  },
  {
   "cell_type": "code",
   "execution_count": 37,
   "id": "af5a078d-569f-46ae-a28b-0b68730a5247",
   "metadata": {},
   "outputs": [],
   "source": [
    "df.date = pd.to_datetime(df.date)\n",
    "df[\"month\"] = df.date.dt.month"
   ]
  },
  {
   "cell_type": "markdown",
   "id": "fa31682f",
   "metadata": {},
   "source": [
    "Replace empty information about renovations"
   ]
  },
  {
   "cell_type": "code",
   "execution_count": 38,
   "id": "9b75ba5f",
   "metadata": {},
   "outputs": [],
   "source": [
    "df.yr_renovated = df[\"yr_renovated\"].fillna(-1)"
   ]
  },
  {
   "cell_type": "markdown",
   "id": "83edbf81",
   "metadata": {},
   "source": [
    "Binning the prices, house sizes and construction years using the pre-defined binning function"
   ]
  },
  {
   "cell_type": "code",
   "execution_count": 39,
   "id": "bf566bcb-ca9e-40ff-bb7d-d9b7d4312088",
   "metadata": {},
   "outputs": [],
   "source": [
    "df = binby(df, \"sqft_living\", 5)\n",
    "df = binby(df, \"yr_built\", 5)"
   ]
  },
  {
   "cell_type": "markdown",
   "id": "f234dfa4",
   "metadata": {},
   "source": []
  },
  {
   "cell_type": "markdown",
   "id": "77a20dfe",
   "metadata": {},
   "source": [
    "Group houses by zipcode, house size and construction year using the defined bins"
   ]
  },
  {
   "cell_type": "code",
   "execution_count": 40,
   "id": "dfb815e3",
   "metadata": {},
   "outputs": [],
   "source": [
    "df[\"avg_price_of_group\"] = df.groupby([\"zipcode\",\"sqft_living_bin\", \"yr_built\"])[\"price\"].transform(\"mean\")"
   ]
  },
  {
   "cell_type": "markdown",
   "id": "01c9ed3e",
   "metadata": {},
   "source": [
    "Determine the relative price difference (in %) of each house, compared to all others in the same group"
   ]
  },
  {
   "cell_type": "code",
   "execution_count": 41,
   "id": "c57bedf3",
   "metadata": {},
   "outputs": [],
   "source": [
    "df[\"relative_price_bin\"] = ((df[\"price\"]/ df[\"avg_price_of_group\"]) -1)*100"
   ]
  },
  {
   "cell_type": "markdown",
   "id": "adc45431",
   "metadata": {},
   "source": [
    "Added new columns with information about wether the house has been renovated or not and the time since the last renovation.\n",
    "If the house has never been renovated, the time since the house was built is used."
   ]
  },
  {
   "cell_type": "code",
   "execution_count": 45,
   "id": "44d18549-544f-4319-9dc1-3b96692fec89",
   "metadata": {},
   "outputs": [
    {
     "data": {
      "text/plain": [
       "(21597, 28)"
      ]
     },
     "execution_count": 45,
     "metadata": {},
     "output_type": "execute_result"
    }
   ],
   "source": [
    "renovated_houses = renovated(df)\n",
    "renovated_houses[\"yr_since_reno\"] = 2015- df.yr_renovated\n",
    "renovated_houses[\"renovated\"] = \"Renovated\"\n",
    "not_renovated = not_renovated(df)\n",
    "not_renovated[\"yr_since_reno\"]= 2015 - not_renovated.yr_built\n",
    "not_renovated[\"renovated\"] = \"Never renovated\"\n",
    "unknown_reno = df[df[\"yr_renovated\"]==-1]\n",
    "#unknown_reno[\"yr_since_reno\"] = np.nan\n",
    "df = pd.concat([renovated_houses, not_renovated, unknown_reno], axis = 0)\n"
   ]
  },
  {
   "cell_type": "markdown",
   "id": "6d96e5d2-e56b-4059-b931-8f7e2f5cedd6",
   "metadata": {},
   "source": [
    "Added categorical column, showing wether the house is considered historical (built before 1945) or more modern."
   ]
  },
  {
   "cell_type": "code",
   "execution_count": 51,
   "id": "b183404d-8519-4743-a7a9-6aa821398835",
   "metadata": {},
   "outputs": [],
   "source": [
    "historicals =  old(df)\n",
    "historicals[\"age\"] = \"historical\"\n",
    "moderns =  new(df)\n",
    "moderns[\"age\"] = \"modern\"\n",
    "df= pd.concat([historicals, moderns]).sort_index()"
   ]
  },
  {
   "cell_type": "markdown",
   "id": "a3e763a5-5c9a-43ca-a54e-a9012a8ce94a",
   "metadata": {
    "tags": []
   },
   "source": [
    "# 1st Plot - Renovating or not?"
   ]
  },
  {
   "cell_type": "markdown",
   "id": "cf295a46-0720-4a9d-b49e-2b750d2ad08e",
   "metadata": {
    "tags": []
   },
   "source": [
    "#### General impact of renovation on relative house prices:"
   ]
  },
  {
   "cell_type": "code",
   "execution_count": 54,
   "id": "cc350a0f-a38f-4399-8348-889df4569248",
   "metadata": {},
   "outputs": [
    {
     "data": {
      "image/png": "[encoded data removed]",
      "text/plain": [
       "<Figure size 432x288 with 1 Axes>"
      ]
     },
     "metadata": {
      "needs_background": "light"
     },
     "output_type": "display_data"
    }
   ],
   "source": [
    "plot1 = sns.barplot(data= df, x=\"age\", y=\"relative_price_bin\", hue=\"renovated\",order=[\"historical\", \"modern\"], hue_order=[\"Renovated\", \"Never renovated\"],  ci= None)\n",
    "colors = [\"#FBDE7D\", \"#F1A49E\"]\n",
    "sns.set_palette(sns.color_palette(colors))\n",
    "plot1.set_xlabel(\"House category\", fontsize=20)\n",
    "plot1.set_ylabel(\"Price relative to market value [%]\", fontsize=20)\n",
    "plot1.set_title(\"Renovations and Resale value\", fontsize= 25)\n",
    "plot1.legend(loc='lower left', title=\"Renovation status\", title_fontsize = 20, fontsize= 20, bbox_to_anchor=(1, 0.7))\n",
    "plt.axhline(0, alpha=0.7, color=\"black\")\n",
    "plot1.set_yticklabels(plot1.get_yticks(), size = 16)\n",
    "plot1.set_xticklabels(labels =[\"Historical\",\"Modern\"], size=16);"
   ]
  },
  {
   "cell_type": "markdown",
   "id": "a8d91c76",
   "metadata": {},
   "source": [
    "This plot shows the impact of renovations on the price increase a house can achieve compared to others in its class.\n",
    "But this effect seems weaker in historical houses. Maybe houses that have been restored 60+ years ago distort this analysis.\n"
   ]
  },
  {
   "cell_type": "markdown",
   "id": "98105510",
   "metadata": {},
   "source": [
    "Added categorical column, showing wether the house has been renovated recently (<10 years), at some point in time or never"
   ]
  },
  {
   "cell_type": "code",
   "execution_count": null,
   "id": "ec60c054",
   "metadata": {},
   "outputs": [],
   "source": [
    "recently = renovated(df[df[\"yr_since_reno\"]<=10])\n",
    "recently[\"rec_renovated\"] = \"recently\"\n",
    "non_recent = renovated(df[df[\"yr_since_reno\"]>10])\n",
    "non_recent[\"rec_renovated\"] = \"not_recent\"\n",
    "never_renovated = not_renovated(df)\n",
    "never_renovated[\"rec_renovated\"] = \"never\"\n",
    "unknown_reno[\"rec_renovated\"] = np.nan\n",
    "df = pd.concat([recently, non_recent, never_renovated, unknown_reno], axis = 0).sort_index()"
   ]
  },
  {
   "cell_type": "code",
   "execution_count": 56,
   "id": "cc350a0f-a38f-4399-8348-889df4569248",
   "metadata": {},
   "outputs": [
    {
     "data": {
      "image/png": "[encoded data removed]",
      "text/plain": [
       "<Figure size 432x288 with 1 Axes>"
      ]
     },
     "metadata": {
      "needs_background": "light"
     },
     "output_type": "display_data"
    }
   ],
   "source": [
    "plot1 = sns.barplot(data= df, x=\"age\", y=\"relative_price_bin\", hue=\"rec_renovated\",order=[\"historical\", \"modern\"], hue_order=[\"recently\", \"not_recent\", \"never\"], ci= None)\n",
    "colors = [\"#A2E3A7\", \"#FBDE7D\", \"#F1A49E\"]\n",
    "sns.set_palette(sns.color_palette(colors))\n",
    "plot1.set_xlabel(\"House category\", fontsize=20)\n",
    "plot1.set_ylabel(\"Price relative to market value [%]\", fontsize=20)\n",
    "plot1.set_title(\"Renovation status and Resale value\", fontsize= 25)\n",
    "plot1.legend(loc='lower left', title=\"Renovation status\", title_fontsize = 20, fontsize= 20, bbox_to_anchor=(1, 0.7), labels=[\"Recently\", \"Some time\", \"Never\"])\n",
    "plt.axhline(0, alpha=0.7, color=\"black\")\n",
    "plot1.set_yticklabels(plot1.get_yticks(), size = 16)\n",
    "plot1.set_xticklabels(labels =[\"Historical\",\"Modern\"], size=16);"
   ]
  },
  {
   "cell_type": "markdown",
   "id": "a789f392",
   "metadata": {},
   "source": [
    "This plot shows that historical houses benefit much more from very recent renovations than modern houses.\n",
    "There might be a trend going on, where historical houses are upgraded to high-end modern housing.\n",
    "\n",
    "Historical houses that have never been renovated, however seem to sell lower than other houses in their class.\n",
    "These houses might be in quite bad condition."
   ]
  },
  {
   "cell_type": "code",
   "execution_count": 61,
   "id": "1cebc5e7-87a2-4f9b-b228-0ce1d4be400c",
   "metadata": {},
   "outputs": [
    {
     "data": {
      "image/png": "[encoded data removed]",
      "text/plain": [
       "<Figure size 432x288 with 1 Axes>"
      ]
     },
     "metadata": {
      "needs_background": "light"
     },
     "output_type": "display_data"
    }
   ],
   "source": [
    "plot2 = sns.barplot(data=df, x=\"condition\", y=\"relative_price_bin\", hue=\"age\", ci= None, hue_order=[\"historical\", \"modern\"])\n",
    "sns.set_palette(\"colorblind\",2)\n",
    "plot2.set_xlabel(\"House condition\\n ← Bad       Good  →\", fontsize=20)\n",
    "plot2.set_ylabel(\"Price relative to market value [%]\", fontsize=20)\n",
    "plot2.set_title(\"House condition and resale value\", fontsize= 25)\n",
    "plot2.legend(loc='lower right', title=\"House catergory\", title_fontsize = 20, fontsize= 20, labels=['Historical', 'Modern'])\n",
    "plt.axhline(0, alpha=0.7, color=\"black\")\n",
    "plot2.set_yticklabels(plot2.get_yticks(), size = 16)\n",
    "plot2.set_xticklabels(list(range(1,6)), size=16);"
   ]
  },
  {
   "cell_type": "markdown",
   "id": "5d5b5d6f",
   "metadata": {},
   "source": [
    "As expected, bad house conditions can drastically lower the price of a house.  \n",
    "\n",
    "Interesingly, both very good and a very bad conditions seem to have higher impacts on the relative selling prices of historical houses."
   ]
  },
  {
   "cell_type": "markdown",
   "id": "e71c9e26-f39f-4b2a-b433-3d3436459406",
   "metadata": {
    "tags": []
   },
   "source": [
    "# 2nd Plot - What month?"
   ]
  },
  {
   "cell_type": "code",
   "execution_count": null,
   "id": "5e7c8c0f-2a46-4b76-9679-4bc391f41134",
   "metadata": {},
   "outputs": [],
   "source": [
    "sns.barplot(data= df, x=\"month\", y=\"relative_price_bin\", hue=\"age\", ci=None, palette=\"pastel\")\n"
   ]
  },
  {
   "cell_type": "code",
   "execution_count": null,
   "id": "2ad27995-6fa1-45c7-a489-740a90d7497c",
   "metadata": {},
   "outputs": [],
   "source": [
    "plot3= sns.barplot(data= df, x=\"month\", y=\"relative_price_bin\", hue=\"age\", ci=None, hue_order=[\"historical\", \"modern\"])#.set(xlabel = 'Percent over market value', ylabel='Month of sale', title='Relative selling prices per month')\n",
    "sns.set_palette(\"colorblind\",2)\n",
    "plot3.set_xlabel(\"Month of sale\", fontsize=20)\n",
    "plot3.set_ylabel(\"Price relative to market value [%]\", fontsize=20)\n",
    "plot3.set_title(\"Relative selling prices per month\", fontsize= 25)\n",
    "plot3.legend(loc='upper right', title=\"House catergory\", title_fontsize = 20, fontsize= 20, labels=['Historical', 'Modern'])\n",
    "plt.axhline(0, alpha=0.7, color=\"black\")\n",
    "plot3.set_yticklabels(plot3.get_yticks(), size = 16)\n",
    "plot3.set_xticklabels(list(range(1,13)), size=16)"
   ]
  },
  {
   "cell_type": "code",
   "execution_count": null,
   "id": "7e018713-441b-4081-9d25-b57ab53ca6a7",
   "metadata": {},
   "outputs": [],
   "source": [
    "def old(dataframe, yr= 1945):\n",
    "    return dataframe[dataframe[\"yr_built\"] < yr]\n",
    "\n",
    "def new(dataframe, yr=1945):\n",
    "    return dataframe[dataframe[\"yr_built\"] >= yr]\n",
    "\n"
   ]
  },
  {
   "cell_type": "code",
   "execution_count": null,
   "id": "13e6f833-1ac4-450c-81f0-90a27482719a",
   "metadata": {},
   "outputs": [],
   "source": [
    "olds= old(df)\n",
    "olds[\"big_sales_per_month\"] = olds[olds[\"relative_price_bin\"]>0].groupby(\"month\")[\"id\"].transform(\"count\")\n",
    "news= new(df)\n",
    "news[\"big_sales_per_month\"] = news[news[\"relative_price_bin\"]>0].groupby(\"month\")[\"id\"].transform(\"count\")\n",
    "df = pd.concat([olds, news], axis = 0).sort_index()\n",
    "\n",
    "olds= old(df)\n",
    "olds[\"bad_sales_per_month\"] = olds[olds[\"relative_price_bin\"]<0].groupby(\"month\")[\"id\"].transform(\"count\")\n",
    "news= new(df)\n",
    "news[\"bad_sales_per_month\"] = news[news[\"relative_price_bin\"]<0].groupby(\"month\")[\"id\"].transform(\"count\")\n",
    "df = pd.concat([olds, news], axis = 0).sort_index()\n",
    "df[\"monthly_sales\"] = df.groupby(\"month\")[\"id\"].transform(\"count\")\n"
   ]
  },
  {
   "cell_type": "code",
   "execution_count": null,
   "id": "5219c9bc-ef1b-43a7-ba90-4c732a64d3cf",
   "metadata": {},
   "outputs": [],
   "source": [
    "plot4= sns.barplot(data= df, x= \"month\", y=\"big_sales_per_month\", hue=\"age\", hue_order=[\"historical\", \"modern\"])\n",
    "sns.set_palette(\"colorblind\",2)\n",
    "plot4.set_xlabel(\"Month of sale\", fontsize=20)\n",
    "plot4.set_ylabel(\"Sales count\", fontsize=20)\n",
    "plot4.set_title(\"Monthly sales above market value\", fontsize= 25)\n",
    "plot4.legend(loc='upper right', title=\"House catergory\", title_fontsize = 20, fontsize= 20, labels=['Historical', 'Modern'])\n",
    "plt.axhline(0, alpha=0.7, color=\"black\")\n",
    "plot4.set_yticklabels(plot4.get_yticks(), size = 16)\n",
    "plot4.set_xticklabels(list(range(1,13)), size=16)"
   ]
  },
  {
   "cell_type": "code",
   "execution_count": null,
   "id": "80b9eec4-d102-460f-b934-92d8d28388af",
   "metadata": {},
   "outputs": [],
   "source": []
  },
  {
   "cell_type": "code",
   "execution_count": null,
   "id": "3553583d-e32a-4ee6-9810-88b20d38f35a",
   "metadata": {},
   "outputs": [],
   "source": [
    "sns.barplot(data= df, x= \"month\", y=\"monthly_sales\",color=\"#5f74a0\", saturation=1)"
   ]
  },
  {
   "cell_type": "code",
   "execution_count": null,
   "id": "b4bd4dee-db09-48f8-8c83-e3de333a4d21",
   "metadata": {},
   "outputs": [],
   "source": [
    "df[\"monthly sales\"] = df.groupby(\"month\")[\"id\"].transform(\"count\")\n",
    "df"
   ]
  },
  {
   "cell_type": "markdown",
   "id": "30b327bf-f693-41e8-aa72-5db5000202df",
   "metadata": {
    "tags": []
   },
   "source": [
    "# 3rd Plot - Location of Interesting properties\n",
    "Where are the most lucrative?"
   ]
  },
  {
   "cell_type": "markdown",
   "id": "506e2f73-e03c-48d9-b0f0-3dd3d22426c8",
   "metadata": {},
   "source": [
    "To buy: Old houses that have not been renovated"
   ]
  },
  {
   "cell_type": "code",
   "execution_count": null,
   "id": "6ed3794b-98b2-4ff9-9877-02ed4ebbd3b7",
   "metadata": {},
   "outputs": [],
   "source": [
    "locations = px.scatter_mapbox(old(df[df[\"relative_price_bin\"]>25]), lat=\"lat\", lon = \"long\", title =\"Historical houses that sold more than 25% over market value\",labels={\"never\": \"Never\", \"not_recent\": \"Some time\", \"recently\":\"Recently\"}, mapbox_style =\"stamen-terrain\", zoom =10, width = 800, height=800, color = \"renovated\", color_discrete_map={\n",
    "                \"recently\": \"green\",\n",
    "                \"not_recent\": \"goldenrod\",\n",
    "                \"never\": \"red\"})\n",
    "locations.show()"
   ]
  },
  {
   "cell_type": "code",
   "execution_count": null,
   "id": "78dd808b",
   "metadata": {},
   "outputs": [],
   "source": [
    "locations = px.scatter_mapbox(old(df[df[\"relative_price_bin\"]>=0][df[\"sqft_living\"] < 3300]), lat=\"lat\", lon = \"long\", title =\"Historical houses that sold more than 25% over market value\",labels={\"never\": \"Never\", \"not_recent\": \"Some time\", \"recently\":\"Recently\"}, mapbox_style =\"stamen-terrain\", zoom =10, width = 800, height=800, color = \"renovated\", color_discrete_map={\n",
    "                \"recently\": \"green\",\n",
    "                \"not_recent\": \"goldenrod\",\n",
    "                \"never\": \"red\"})\n",
    "locations.show()"
   ]
  },
  {
   "cell_type": "code",
   "execution_count": null,
   "id": "5178d16e",
   "metadata": {},
   "outputs": [],
   "source": []
  },
  {
   "cell_type": "code",
   "execution_count": null,
   "id": "1ac9f194-142a-4d17-841c-729c79837a10",
   "metadata": {},
   "outputs": [],
   "source": [
    "sns.scatterplot(data= old(df[df[\"relative_price_bin\"] != 0]), x=\"relative_size\", y=\"relative_price_bin\", hue=\"renovated\")"
   ]
  },
  {
   "cell_type": "code",
   "execution_count": null,
   "id": "4669b49a-5def-4188-9204-558e6b07f0a9",
   "metadata": {},
   "outputs": [],
   "source": [
    "old(df[df[\"relative_price_bin\"]>0]).sort_values(\"relative_price_bin\",ascending=False)\n",
    "sns.histplot(data= old(df[df[\"relative_price_bin\"]>0]), x=\"relative_price_bin\", bins=20)\n",
    "plt.xlim(-0.2,3.5)"
   ]
  },
  {
   "cell_type": "code",
   "execution_count": null,
   "id": "a1b26fd9-6cc5-4c5a-8587-a3ac55a722d5",
   "metadata": {},
   "outputs": [],
   "source": [
    "old(df[df[\"relative_price_bin\"]>0]).sort_values(\"relative_price_bin\",ascending=False)\n",
    "sns.histplot(data= new(df[df[\"relative_price_bin\"]>0]), x=\"relative_price_bin\", bins=30)\n",
    "plt.xlim(-0.2,3.5)"
   ]
  },
  {
   "cell_type": "code",
   "execution_count": null,
   "id": "60e504f8-c521-4179-aca7-f8bdb188bad1",
   "metadata": {},
   "outputs": [],
   "source": [
    "locations = px.scatter_mapbox(old(df[df[\"relative_price_bin\"]>=0]), lat=\"lat\", lon = \"long\", mapbox_style =\"stamen-terrain\", zoom =10, width = 800, height=800, color = \"renovated\", color_continuous_scale=px.colors.sequential.Rainbow)\n",
    "locations.show()"
   ]
  },
  {
   "cell_type": "code",
   "execution_count": null,
   "id": "e3d5e174",
   "metadata": {},
   "outputs": [],
   "source": [
    "locations = px.scatter_mapbox(not_renovated(old(df)), lat=\"lat\", lon = \"long\", title =\"Unrenovated historical houses, colored by maximum profit in the zipcode area\",mapbox_style =\"stamen-terrain\", zoom =10, width = 800, height=800, color = \"relative_price_bin\", color_continuous_scale=px.colors.sequential.Rainbow)\n",
    "locations.show()\n",
    "\n"
   ]
  },
  {
   "cell_type": "code",
   "execution_count": null,
   "id": "7387655c-3ff7-403f-8a46-0d28af39965c",
   "metadata": {},
   "outputs": [],
   "source": [
    "old(df).relative_price_bin"
   ]
  },
  {
   "cell_type": "code",
   "execution_count": null,
   "id": "9e4c1078-28c9-4551-83a3-0489a3517f44",
   "metadata": {},
   "outputs": [],
   "source": []
  },
  {
   "cell_type": "code",
   "execution_count": null,
   "id": "4d1955a3-ee66-4252-8e28-949874bfc252",
   "metadata": {},
   "outputs": [],
   "source": [
    "a = old(df[df[\"relative_price_bin\"] > 1]).mean()\n",
    "b= old(df[df[\"relative_price_bin\"] < 1]).mean()\n",
    "c= pd.concat([a,b], axis = 1, copy=False, keys=(\"good\",\"bad\"))\n",
    "c= c.transpose()\n",
    "c"
   ]
  },
  {
   "cell_type": "code",
   "execution_count": null,
   "id": "c651a2be-58ab-4945-bcf5-3ba5c3f86bbf",
   "metadata": {},
   "outputs": [],
   "source": [
    "plot6 = sns.scatterplot(data= old(df[df[\"relative_price_bin\"] != 0]),x=\"price\",y=\"relative_price_bin\", hue=\"renovated\", hue_order=[\"recently\", \"not_recent\", \"never\"])\n",
    "colors = [\"#A2E3A7\", \"#FBDE7D\", \"#F1A49E\"]\n",
    "sns.set_palette(sns.color_palette(colors))\n",
    "plot6.set_xlabel(\"House price\", fontsize=20)\n",
    "plot6.set_ylabel(\"Price relative to market value [%]\", fontsize=20)\n",
    "plot6.set_title(\"Relation of Profit and Price\", fontsize= 25)\n",
    "plot6.legend(loc='upper right', title=\"Renovation status\", title_fontsize = 20, fontsize= 20)#, labels=[\"Recently\",\"Some time\", \"Never\"])\n",
    "plt.axhline(0, alpha=0.7, color=\"black\")\n",
    "plot6.set_yticklabels(plot6.get_yticks(), size = 16)\n",
    "plot6.set_xticklabels(list(range(1,13)), size=16)"
   ]
  },
  {
   "cell_type": "code",
   "execution_count": null,
   "id": "78faa2bb-5db1-4045-b8ac-56f608159e0e",
   "metadata": {},
   "outputs": [],
   "source": [
    "plot6 = sns.scatterplot(data= old(df),x=\"sqft_living\",y=\"relative_price_bin\", hue=\"renovated\", hue_order=[\"recently\", \"not_recent\", \"never\"])\n",
    "colors = [\"#50af58\", \"#f9cc39\", \"#e6564c\"]\n",
    "sns.set_palette(sns.color_palette(colors))\n",
    "plot6.set_xlabel(\"Living space [sqft]\", fontsize=20)\n",
    "plot6.set_ylabel(\"Price relative to market value [%]\", fontsize=20)\n",
    "plot6.set_title(\"Relation of the size of historic houses to their relative selling prices\", fontsize= 25)\n",
    "plot6.legend(loc='upper right', title=\"Renovation status\", title_fontsize = 20, fontsize= 20)#, labels=[\"Recently\",\"Some time\", \"Never\"])\n",
    "plt.axhline(0, alpha=0.7, color=\"black\")\n",
    "plt.xlim(0,6e3)\n",
    "plot6.set_yticklabels(plot6.get_yticks(), size = 16)\n",
    "plot6.set_xticklabels(plot6.get_xticks(), size=16)\n"
   ]
  },
  {
   "cell_type": "code",
   "execution_count": null,
   "id": "55ddb4b6-d797-40d2-ac71-11bb0e878259",
   "metadata": {},
   "outputs": [],
   "source": [
    "old(df[df[\"relative_price_bin\"] < 1]).mean()"
   ]
  },
  {
   "cell_type": "code",
   "execution_count": null,
   "id": "b0bcc65f-21c9-4b32-b1bb-d3aee575663c",
   "metadata": {},
   "outputs": [],
   "source": [
    "locations = px.scatter_mapbox(old(df[df[\"relative_price_bin\"] > 0]), lat=\"lat\", lon = \"long\", mapbox_style =\"stamen-terrain\", zoom =9,  width = 800, height=500, color = \"condition\")\n",
    "locations.show()"
   ]
  },
  {
   "cell_type": "code",
   "execution_count": null,
   "id": "727d69a3-b61b-485e-86df-ea192f336dcb",
   "metadata": {},
   "outputs": [],
   "source": [
    "locations = px.scatter_mapbox(df, lat=\"lat\", lon = \"long\", mapbox_style =\"stamen-terrain\", zoom =9,  width = 800, height=500, color = \"relative_price_bin\", color_continuous_scale=px.colors.diverging.RdBu)\n",
    "locations.show()"
   ]
  },
  {
   "cell_type": "markdown",
   "id": "7bd595e0-fc4d-4b04-8d41-b44fb781fc97",
   "metadata": {
    "tags": []
   },
   "source": [
    "# 4. Plot - How big are the most lucrative old houses?"
   ]
  },
  {
   "cell_type": "code",
   "execution_count": null,
   "id": "c9f0bce6-bff5-4c60-b80f-0436d74f37ea",
   "metadata": {},
   "outputs": [],
   "source": [
    "sns.barplot(data=old(df), x=\"sqft_living_bin\", y=\"relative_price_win\", hue=\"renovated\", palette = \"pastel\", ci= None)\n",
    "plt.axhline(0, alpha=0.5)"
   ]
  },
  {
   "cell_type": "code",
   "execution_count": null,
   "id": "e35de80a-aea0-4a4b-b93e-7e5d72a17b5c",
   "metadata": {},
   "outputs": [],
   "source": [
    "sns.scatterplot(data=old(df), x=\"relative_size\", y=\"relative_price_bin\", hue=\"bathrooms\")\n",
    "plt.axhline(0)\n",
    "plt.axvline(1)\n",
    "plt.xlim(0,6.3)\n",
    "plt.ylim(-1.2,10)"
   ]
  },
  {
   "cell_type": "code",
   "execution_count": null,
   "id": "2a11b1ab-9fb3-46fd-8d14-aedcfebc5ac6",
   "metadata": {},
   "outputs": [],
   "source": [
    "sns.scatterplot(data=new(df), x=\"relative_size\", y=\"relative_price_win\", hue=\"bathrooms\", palette=\"icefire\")\n",
    "plt.axhline(0)\n",
    "plt.axvline(1)\n",
    "plt.xlim(0,6.3)\n",
    "plt.ylim(-1.2,10)"
   ]
  },
  {
   "cell_type": "markdown",
   "id": "9b5b6ec0-aea2-4284-82b8-65b5be336035",
   "metadata": {},
   "source": [
    "# Recommendations:\n",
    "## 1. Renovate houses before selling / Buy unrenovated\n",
    "    - recent renovations (<10 years) increase resale value of historicals more\n",
    "    - bad condition reduces price of historicals much more\n",
    "## 2. Sell in April\n",
    "    - Relative selling price largest in April, especially for old houses\n",
    "    - Month with highest number of sales over market value\n",
    "    - Seemingly people are more inclined to spend more than marketvalue after winter?\n",
    "    \n",
    "## 3. Most lucrative buildings at waterfront\n",
    "    - No surprise here\n",
    "## 4. Invest in Large/Small houses"
   ]
  },
  {
   "cell_type": "markdown",
   "id": "63f09c9c-6ae8-49ff-8ff0-09ddb020c8b7",
   "metadata": {},
   "source": []
  },
  {
   "cell_type": "code",
   "execution_count": null,
   "id": "00f5fdd1-c7cd-448e-8ed1-5edb796ce348",
   "metadata": {},
   "outputs": [],
   "source": []
  },
  {
   "cell_type": "code",
   "execution_count": null,
   "id": "0996d70a-4781-458d-a3a4-7bddb1b8f673",
   "metadata": {},
   "outputs": [],
   "source": []
  },
  {
   "cell_type": "code",
   "execution_count": null,
   "id": "196315a1-bd0d-4a08-9114-6708f8f49a34",
   "metadata": {},
   "outputs": [],
   "source": [
    "df.groupby(\"sqft_living_bin\")[[\"relative_price_bin\"]].describe()"
   ]
  },
  {
   "cell_type": "code",
   "execution_count": null,
   "id": "33e56c07",
   "metadata": {},
   "outputs": [],
   "source": [
    "df.groupby(\"yr_built_bin\")[[\"relative_price_bin\"]].describe()"
   ]
  },
  {
   "cell_type": "code",
   "execution_count": null,
   "id": "9c47a0af",
   "metadata": {},
   "outputs": [],
   "source": [
    "df[\"max_profit_of_zipcode\"]= df.groupby(\"zipcode\")[[\"relative_price_bin\"]].transform(\"max\")"
   ]
  },
  {
   "cell_type": "code",
   "execution_count": null,
   "id": "3f8b628a",
   "metadata": {},
   "outputs": [],
   "source": [
    "df.head()"
   ]
  },
  {
   "cell_type": "code",
   "execution_count": null,
   "metadata": {},
   "outputs": [],
   "source": []
  }
 ],
 "metadata": {
  "kernelspec": {
   "display_name": "Python 3.9.8 ('.venv': venv)",
   "language": "python",
   "name": "python3"
  },
  "language_info": {
   "codemirror_mode": {
    "name": "ipython",
    "version": 3
   },
   "file_extension": ".py",
   "mimetype": "text/x-python",
   "name": "python",
   "nbconvert_exporter": "python",
   "pygments_lexer": "ipython3",
   "version": "3.9.8"
  },
  "vscode": {
   "interpreter": {
    "hash": "d134a1fa703c605c05efdd419111dcef4d004e4b1d1369989a03c0054edf78c5"
   }
  }
 },
 "nbformat": 4,
 "nbformat_minor": 5
}
